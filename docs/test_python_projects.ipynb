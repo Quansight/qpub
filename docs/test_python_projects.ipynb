{
 "cells": [
  {
   "cell_type": "markdown",
   "metadata": {},
   "source": [
    "# `qpub` for small python projects"
   ]
  },
  {
   "cell_type": "markdown",
   "metadata": {},
   "source": [
    "## a single python script"
   ]
  },
  {
   "cell_type": "code",
   "execution_count": 10,
   "metadata": {},
   "outputs": [],
   "source": [
    "import pytest\n",
    "@pytest.fixture\n",
    "def single_script(pytester):\n",
    "    import nbformat, dgaf\n",
    "    name = \"sample_python_project\"\n",
    "    pytester.makefile(\".py\", **{name: \"\"\"'a sample project'\n",
    "__version__ = '0.0.1'\n",
    "    \n",
    "import pandas\"\"\"})\n",
    "    project = dgaf.Project(pytester.path)\n",
    "    yield project"
   ]
  },
  {
   "cell_type": "code",
   "execution_count": 15,
   "metadata": {},
   "outputs": [],
   "source": [
    "def test_single_script(single_script):\n",
    "    assert single_script.fs.files\n",
    "    assert not single_script.fs.top_level\n",
    "    assert single_script.get_name() == \"sample_python_project\"\n",
    "    assert \"nbval\" not in single_script.get_test_requires()\n",
    "    assert not single_script.get_url()\n",
    "    assert single_script.get_requires() == [\"pandas\"]"
   ]
  },
  {
   "cell_type": "code",
   "execution_count": 12,
   "metadata": {},
   "outputs": [],
   "source": [
    "def test_single_script_flit(pytester, single_script):\n",
    "    # when there is no url we can initialize one in a few ways.\n",
    "    pyproject = single_script/__import__(\"dgaf\").PYPROJECT_TOML\n",
    "    assert not pyproject.exists()\n",
    "    single_script.to_flit()\n",
    "    assert pyproject.exists()\n",
    "    result = pytester.run(*\"flit build\".split())\n",
    "    assert not result.ret"
   ]
  },
  {
   "cell_type": "code",
   "execution_count": 1,
   "metadata": {},
   "outputs": [],
   "source": [
    "def test_single_script_setuptools(pytester, single_script):\n",
    "    setup = single_script/__import__(\"dgaf\").SETUP_CFG\n",
    "    assert not setup.exists()\n",
    "    single_script.to_setuptools()\n",
    "    assert setup.exists()\n",
    "    single_script.to_setup_py()\n",
    "    result = pytester.run(*\"python setup.py build --dry-run\".split())\n",
    "    assert not result.ret"
   ]
  },
  {
   "cell_type": "code",
   "execution_count": 10,
   "metadata": {},
   "outputs": [],
   "source": [
    "import pytest\n",
    "@pytest.fixture\n",
    "def directory(pytester):\n",
    "    name = \"sample_python_project\"\n",
    "    pytester.mkdir(name)\n",
    "    pytester.makefile(\".py\", **{F\"{name}/__init__.py\": \"\"\"'a sample project'\n",
    "__version__ = '0.0.1'\n",
    "    \n",
    "import pandas\"\"\"})\n",
    "    project = __import__(\"dgaf\").Project(pytester.path)\n",
    "    yield project"
   ]
  },
  {
   "cell_type": "code",
   "execution_count": 13,
   "metadata": {},
   "outputs": [],
   "source": [
    "def test_directory(directory):\n",
    "    import dgaf\n",
    "    assert directory.fs.content\n",
    "    assert directory.fs.top_level\n",
    "    assert directory.get_name() == \"sample_python_project\"\n",
    "    assert \"nbval\" not in directory.get_test_requires()\n",
    "    assert not directory.get_url()\n",
    "    assert directory.get_requires() == [\"pandas\"]    "
   ]
  },
  {
   "cell_type": "code",
   "execution_count": 12,
   "metadata": {},
   "outputs": [],
   "source": [
    "def test_directory_flit(pytester, directory):\n",
    "    # when there is no url we can initialize one in a few ways.\n",
    "    import dgaf, shutil\n",
    "    pyproject = directory/__import__(\"dgaf\").PYPROJECT_TOML\n",
    "    assert not pyproject.exists()\n",
    "    directory.to_flit()\n",
    "    assert pyproject.exists()\n",
    "    result = pytester.run(*\"flit build\".split())\n",
    "    assert not result.ret"
   ]
  },
  {
   "cell_type": "code",
   "execution_count": 1,
   "metadata": {},
   "outputs": [],
   "source": [
    "def test_directory_setuptools(pytester, directory):\n",
    "    import dgaf\n",
    "    setup = directory/__import__(\"dgaf\").SETUP_CFG\n",
    "    assert not setup.exists()\n",
    "    directory.to_setuptools()\n",
    "    assert setup.exists()\n",
    "    directory.to_setup_py()\n",
    "    result = pytester.run(*\"python setup.py build --dry-run\".split())\n",
    "    assert not result.ret"
   ]
  },
  {
   "cell_type": "code",
   "execution_count": null,
   "metadata": {},
   "outputs": [],
   "source": []
  }
 ],
 "metadata": {
  "kernelspec": {
   "display_name": "Python 3",
   "language": "python",
   "name": "python3"
  },
  "language_info": {
   "codemirror_mode": {
    "name": "ipython",
    "version": 3
   },
   "file_extension": ".py",
   "mimetype": "text/x-python",
   "name": "python",
   "nbconvert_exporter": "python",
   "pygments_lexer": "ipython3",
   "version": "3.7.7"
  }
 },
 "nbformat": 4,
 "nbformat_minor": 4
}
