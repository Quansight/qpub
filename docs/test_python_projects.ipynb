{
 "cells": [
  {
   "cell_type": "markdown",
   "metadata": {},
   "source": [
    "# `qpub` for small python projects"
   ]
  },
  {
   "cell_type": "markdown",
   "metadata": {},
   "source": [
    "## a single python script"
   ]
  },
  {
   "cell_type": "code",
   "execution_count": 10,
   "metadata": {},
   "outputs": [],
   "source": [
    "import pytest\n",
    "@pytest.fixture\n",
    "def single_script(pytester):\n",
    "    import nbformat, dgaf\n",
    "    name = \"sample_python_project\"\n",
    "    pytester.makefile(\".py\", **{name: \"\"\"'a sample project'\n",
    "    __version__ = '0.0.1'\"\"\"})\n",
    "    project = dgaf.Project(pytester.path)\n",
    "    yield project"
   ]
  },
  {
   "cell_type": "code",
   "execution_count": 11,
   "metadata": {},
   "outputs": [],
   "source": [
    "def test_project(single_script):\n",
    "    import dgaf\n",
    "    assert single_script.fs.files\n",
    "    assert single_script.get_name() == \"sample_python_project\"\n",
    "    assert \"nbval\" not in single_script.get_test_requires()\n",
    "    assert not single_script.get_url()\n",
    "    assert single_script.get_requires() == [\"pandas\"]"
   ]
  },
  {
   "cell_type": "code",
   "execution_count": 12,
   "metadata": {},
   "outputs": [],
   "source": [
    "def test_flit(pytester, single_script):\n",
    "    # when there is no url we can initialize one in a few ways.\n",
    "    import dgaf, shutil\n",
    "    pyproject = single_script/dgaf.PYPROJECT_TOML\n",
    "    assert not single_script.exists()\n",
    "    single_script.to_flit()\n",
    "    assert single_script.exists()\n",
    "    result = pytester.run(*\"flit build\".split())\n",
    "    assert not result.ret"
   ]
  },
  {
   "cell_type": "code",
   "execution_count": 1,
   "metadata": {},
   "outputs": [],
   "source": [
    "def test_setuptools(pytester, single_script):\n",
    "    import dgaf\n",
    "    setup = single_script/dgaf.SETUP_CFG\n",
    "    assert not setup.exists()\n",
    "    single_script.to_setuptools()\n",
    "    assert setup.exists()\n",
    "    single_script.to_setup_py()\n",
    "    result = pytester.run(*\"python setup.py build --dry-run\".split())\n",
    "    assert not result.ret"
   ]
  }
 ],
 "metadata": {
  "kernelspec": {
   "display_name": "Python 3",
   "language": "python",
   "name": "python3"
  },
  "language_info": {
   "codemirror_mode": {
    "name": "ipython",
    "version": 3
   },
   "file_extension": ".py",
   "mimetype": "text/x-python",
   "name": "python",
   "nbconvert_exporter": "python",
   "pygments_lexer": "ipython3",
   "version": "3.7.7"
  }
 },
 "nbformat": 4,
 "nbformat_minor": 4
}
