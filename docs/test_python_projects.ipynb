{
 "cells": [
  {
   "cell_type": "markdown",
   "metadata": {},
   "source": [
    "# `qpub` for python projects\n",
    "\n",
    "this notebook tests different conformations of python files, and configuring them with `flit, poetry and setuptools`."
   ]
  },
  {
   "cell_type": "markdown",
   "metadata": {},
   "source": [
    "## a single python script"
   ]
  },
  {
   "cell_type": "code",
   "execution_count": 1,
   "metadata": {},
   "outputs": [],
   "source": [
    "import pytest\n",
    "@pytest.fixture\n",
    "def single_script(pytester):\n",
    "    import nbformat, dgaf\n",
    "    name = \"sample_python_project\"\n",
    "    pytester.makefile(\".py\", **{name: \"\"\"'a sample project'\n",
    "__version__ = '0.0.1'\n",
    "    \n",
    "import pandas\"\"\"})\n",
    "    project = dgaf.Project(pytester.path)\n",
    "    yield project"
   ]
  },
  {
   "cell_type": "code",
   "execution_count": 2,
   "metadata": {},
   "outputs": [],
   "source": [
    "def test_single_script(single_script):\n",
    "    assert single_script.fs.files\n",
    "    assert not single_script.fs.top_level\n",
    "    assert single_script.get_name() == \"sample_python_project\"\n",
    "    assert \"nbval\" not in single_script.get_test_requires()\n",
    "    assert not single_script.get_url()\n",
    "    assert single_script.get_requires() == [\"pandas\"]"
   ]
  },
  {
   "cell_type": "code",
   "execution_count": 3,
   "metadata": {},
   "outputs": [],
   "source": [
    "def test_single_script_flit(pytester, single_script):\n",
    "    # when there is no url we can initialize one in a few ways.\n",
    "    pyproject = single_script/__import__(\"dgaf\").PYPROJECT_TOML\n",
    "    assert not pyproject.exists()\n",
    "    single_script.to_flit()\n",
    "    assert pyproject.exists()\n",
    "    result = pytester.run(*\"flit build\".split())\n",
    "    assert not result.ret"
   ]
  },
  {
   "cell_type": "code",
   "execution_count": 4,
   "metadata": {},
   "outputs": [],
   "source": [
    "def test_single_script_setuptools(pytester, single_script):\n",
    "    setup = single_script/__import__(\"dgaf\").SETUP_CFG\n",
    "    assert not setup.exists()\n",
    "    single_script.to_setuptools()\n",
    "    assert setup.exists()\n",
    "    single_script.to_setup_py()\n",
    "    result = pytester.run(*\"python setup.py build --dry-run\".split())\n",
    "    assert not result.ret"
   ]
  },
  {
   "cell_type": "markdown",
   "metadata": {},
   "source": [
    "## a project in a python directory"
   ]
  },
  {
   "cell_type": "code",
   "execution_count": 5,
   "metadata": {},
   "outputs": [],
   "source": [
    "import pytest\n",
    "@pytest.fixture\n",
    "def directory(pytester):\n",
    "    name = \"sample_python_project\"\n",
    "    pytester.mkdir(name)\n",
    "    pytester.makefile(\".py\", **{F\"{name}/__init__.py\": \"\"\"'a sample project'\n",
    "__version__ = '0.0.1'\n",
    "    \n",
    "import pandas\"\"\"})\n",
    "    project = __import__(\"dgaf\").Project(pytester.path)\n",
    "    yield project"
   ]
  },
  {
   "cell_type": "code",
   "execution_count": 6,
   "metadata": {},
   "outputs": [],
   "source": [
    "def test_directory(directory):\n",
    "    import dgaf\n",
    "    assert directory.fs.content\n",
    "    assert directory.fs.top_level\n",
    "    assert directory.get_name() == \"sample_python_project\"\n",
    "    assert \"nbval\" not in directory.get_test_requires()\n",
    "    assert not directory.get_url()\n",
    "    assert directory.get_requires() == [\"pandas\"]    "
   ]
  },
  {
   "cell_type": "code",
   "execution_count": 7,
   "metadata": {},
   "outputs": [],
   "source": [
    "def test_directory_flit(pytester, directory):\n",
    "    # when there is no url we can initialize one in a few ways.\n",
    "    import dgaf\n",
    "    pyproject = directory/__import__(\"dgaf\").PYPROJECT_TOML\n",
    "    assert not pyproject.exists()\n",
    "    directory.to_flit()\n",
    "    assert pyproject.exists()\n",
    "    assert not pytester.run(*\"flit build\".split()).ret"
   ]
  },
  {
   "cell_type": "code",
   "execution_count": 8,
   "metadata": {},
   "outputs": [],
   "source": [
    "def test_directory_poetry(pytester, directory):\n",
    "    # when there is no url we can initialize one in a few ways.\n",
    "    import dgaf\n",
    "    pyproject = directory/__import__(\"dgaf\").PYPROJECT_TOML\n",
    "    assert not pyproject.exists()\n",
    "    directory.to_poetry()\n",
    "    assert pyproject.exists()\n",
    "    assert not pytester.run(*\"poetry build\".split()).ret"
   ]
  },
  {
   "cell_type": "code",
   "execution_count": 9,
   "metadata": {},
   "outputs": [],
   "source": [
    "def test_directory_setuptools(pytester, directory):\n",
    "    import dgaf\n",
    "    setup = directory/__import__(\"dgaf\").SETUP_CFG\n",
    "    assert not setup.exists()\n",
    "    directory.to_setuptools()\n",
    "    assert setup.exists()\n",
    "    directory.to_setup_py()\n",
    "    assert not pytester.run(*\"python setup.py build --dry-run\".split()).ret"
   ]
  },
  {
   "cell_type": "markdown",
   "metadata": {},
   "source": [
    "## a python project in `src` layout"
   ]
  },
  {
   "cell_type": "code",
   "execution_count": 10,
   "metadata": {},
   "outputs": [],
   "source": [
    "import pytest\n",
    "@pytest.fixture\n",
    "def src(pytester):\n",
    "    \n",
    "    name = \"sample_python_src_project\"\n",
    "    pytester.mkdir(\"src\"), pytester.mkdir(F\"src/{name}\")\n",
    "    pytester.makefile(\".py\", **{F\"src/{name}/__init__.py\": \"\"\"'a sample project'\n",
    "__version__ = '0.0.1'\n",
    "    \n",
    "import pandas\"\"\"})\n",
    "    project = __import__(\"dgaf\").Project(pytester.path)\n",
    "    yield project"
   ]
  },
  {
   "cell_type": "code",
   "execution_count": 11,
   "metadata": {},
   "outputs": [],
   "source": [
    "def test_src_directory_poetry(pytester, src):\n",
    "    # when there is no url we can initialize one in a few ways.\n",
    "    name = src.get_name()\n",
    "    print(name)\n",
    "    assert src.get_name() == \"sample_python_src_project\"\n",
    "    src.to_poetry()\n",
    "    assert not pytester.run(*\"poetry build\".split()).ret \n",
    "    assert not pytester.run(*\"python -m pip install . --no-deps\".split()).ret\n",
    "    \n",
    "    import importlib_metadata\n",
    "    assert importlib_metadata.distribution(\"sample_python_src_project\")\n",
    "    assert __import__(\"sample_python_src_project\")"
   ]
  },
  {
   "cell_type": "markdown",
   "metadata": {},
   "source": [
    "    def test_src_directory_setuptools(pytester, src):\n",
    "        ..."
   ]
  }
 ],
 "metadata": {
  "kernelspec": {
   "display_name": "Python 3",
   "language": "python",
   "name": "python3"
  },
  "language_info": {
   "codemirror_mode": {
    "name": "ipython",
    "version": 3
   },
   "file_extension": ".py",
   "mimetype": "text/x-python",
   "name": "python",
   "nbconvert_exporter": "python",
   "pygments_lexer": "ipython3",
   "version": "3.7.7"
  }
 },
 "nbformat": 4,
 "nbformat_minor": 4
}
