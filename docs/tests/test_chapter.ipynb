{
 "cells": [
  {
   "cell_type": "markdown",
   "metadata": {},
   "source": [
    "# testing chapters\n",
    "\n",
    "in literate packaging our first mission is the look and form of the content as documentation. to generate documentation, and organize content, will use the abstraction of chapters for the inference layer of `dgaf`; the `Project` generates configurations.\n",
    "\n",
    "## why chapters?\n",
    "\n",
    "literate programming has a primary focus on literature and documentation. when we focus on files and directories we're thinking like machines. however, when we think about directories as chapters and files as sections, as literary objects, our programs take on a different meaning. the concept of chapters allows us to consider tangible metadata like titles, summaries, and sections. the root level of a project is a chapter, a repo is a chapter, chapters can live in chapters."
   ]
  },
  {
   "cell_type": "code",
   "execution_count": 1,
   "metadata": {},
   "outputs": [],
   "source": [
    "import dgaf"
   ]
  },
  {
   "cell_type": "code",
   "execution_count": 2,
   "metadata": {},
   "outputs": [],
   "source": [
    "def test_one_file_chapter(pytester):\n",
    "    pytester.makefile(\".md\", **{\"my_thing\": \"\"\"\"\"\"})\n",
    "    chapter = dgaf.Project(pytester.path)\n",
    "    data = chapter.as_toc()\n",
    "    assert bool(data['file']) ^ bool(data['sections'])\n",
    "    assert chapter.get_name() == \"my_thing\""
   ]
  },
  {
   "cell_type": "code",
   "execution_count": 3,
   "metadata": {},
   "outputs": [],
   "source": [
    "def test_one_post_chapter(pytester):\n",
    "    pytester.makefile(\".md\", **{\"2020-12-25-post\": \"\"\"\"\"\"})\n",
    "    chapter = dgaf.Project(pytester.path)\n",
    "    data = chapter.as_toc()\n",
    "    assert bool(data['file']) ^ bool(data['sections'])\n",
    "    assert chapter.get_name() == \"post\""
   ]
  },
  {
   "cell_type": "code",
   "execution_count": 4,
   "metadata": {},
   "outputs": [],
   "source": [
    "def test_src_chapter(pytester):\n",
    "    pytester.mkdir(\"src\"), pytester.mkdir(\"src/my_source_project\")\n",
    "    pytester.makefile(\".py\", **{\"src/my_source_project/__init__\": \"\"\"\"\"\" ,\"readme\": \"\"})\n",
    "    chapter = dgaf.Project(pytester.path)\n",
    "    data = chapter.as_toc(True)\n",
    "    assert bool(data['file']) ^ bool(data['sections'])\n",
    "    assert chapter.get_name() == \"my_source_project\""
   ]
  },
  {
   "cell_type": "code",
   "execution_count": null,
   "metadata": {},
   "outputs": [],
   "source": []
  }
 ],
 "metadata": {
  "kernelspec": {
   "display_name": "Python 3",
   "language": "python",
   "name": "python3"
  },
  "language_info": {
   "codemirror_mode": {
    "name": "ipython",
    "version": 3
   },
   "file_extension": ".py",
   "mimetype": "text/x-python",
   "name": "python",
   "nbconvert_exporter": "python",
   "pygments_lexer": "ipython3",
   "version": "3.7.7"
  }
 },
 "nbformat": 4,
 "nbformat_minor": 4
}
