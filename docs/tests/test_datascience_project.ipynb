{
 "cells": [
  {
   "cell_type": "markdown",
   "metadata": {},
   "source": [
    "a notebook about data can encode "
   ]
  },
  {
   "cell_type": "markdown",
   "metadata": {},
   "source": [
    "this notebook loads data from `\"data.json\"`, that file is created with `doit` tasks at the end."
   ]
  },
  {
   "cell_type": "code",
   "execution_count": 71,
   "metadata": {},
   "outputs": [],
   "source": [
    "    file = __import__(\"pathlib\").Path(\"data.json\")\n",
    "    __main__, __interactive__ = __name__ == '__main__', \"__file__\" not in locals()"
   ]
  },
  {
   "cell_type": "markdown",
   "metadata": {},
   "source": [
    "`ingest` loads our data into a dataframe."
   ]
  },
  {
   "cell_type": "code",
   "execution_count": 72,
   "metadata": {},
   "outputs": [],
   "source": [
    "    def ingest():\n",
    "        import pandas\n",
    "        df = pandas.read_json(\n",
    "            file\n",
    "        ).workflow_runs.apply(\n",
    "            pandas.Series\n",
    "        )\n",
    "        df = df.assign(**{x: pandas.to_datetime(df[x]) \n",
    "                          for x in df.columns \n",
    "                          if x.endswith(\"_at\")})\n",
    "        return df\n",
    "    "
   ]
  },
  {
   "cell_type": "code",
   "execution_count": 75,
   "metadata": {},
   "outputs": [],
   "source": [
    "    if __main__ and __interactive__:\n",
    "        df = ingest()\n",
    "        data = df[\n",
    "            'run_number conclusion event status created_at updated_at'.split()\n",
    "        ].set_index(\"run_number\")"
   ]
  },
  {
   "cell_type": "code",
   "execution_count": 69,
   "metadata": {},
   "outputs": [],
   "source": [
    "    def report():\n",
    "        ..."
   ]
  },
  {
   "cell_type": "code",
   "execution_count": 67,
   "metadata": {},
   "outputs": [],
   "source": [
    "    def main():\n",
    "        print(\"run\")"
   ]
  },
  {
   "cell_type": "markdown",
   "metadata": {},
   "source": [
    "## tasks for loading data"
   ]
  },
  {
   "cell_type": "code",
   "execution_count": 70,
   "metadata": {},
   "outputs": [],
   "source": [
    "    def task_data():\n",
    "        def get():\n",
    "            import requests_cache, requests, pathlib, json\n",
    "            requests_cache.install_cache(\"xxx\")\n",
    "            file.write_text(\n",
    "                json.dumps(requests.get(\"https://api.github.com/repos/deathbeds/importnb/actions/runs\").json())\n",
    "            )\n",
    "        return dict(\n",
    "            actions=[get], targets=[\"data.json\"], uptodate=[file.exists()]\n",
    "        )"
   ]
  },
  {
   "cell_type": "code",
   "execution_count": 68,
   "metadata": {},
   "outputs": [
    {
     "name": "stdout",
     "output_type": "stream",
     "text": [
      "xx\n",
      "-- data\n"
     ]
    }
   ],
   "source": [
    "    if __main__:\n",
    "        if \"__file__\" not in locals():\n",
    "            %reload_ext doit\n",
    "            %doit\n",
    "        else: main()"
   ]
  },
  {
   "cell_type": "code",
   "execution_count": null,
   "metadata": {},
   "outputs": [],
   "source": []
  }
 ],
 "metadata": {
  "kernelspec": {
   "display_name": "Python 3",
   "language": "python",
   "name": "python3"
  },
  "language_info": {
   "codemirror_mode": {
    "name": "ipython",
    "version": 3
   },
   "file_extension": ".py",
   "mimetype": "text/x-python",
   "name": "python",
   "nbconvert_exporter": "python",
   "pygments_lexer": "ipython3",
   "version": "3.7.7"
  }
 },
 "nbformat": 4,
 "nbformat_minor": 4
}
