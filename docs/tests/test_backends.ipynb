{
 "cells": [
  {
   "cell_type": "markdown",
   "metadata": {},
   "source": [
    "# the `qpub` backends\n",
    "\n",
    "`qpub` tries to support many different tools in python.\n",
    "the main strategy and api of `qpub` is to use backends that are\n",
    "designed for specific tasks like `pre-commit` is formatting/linting,\n",
    "`jupyter_book` is for documentation, and `nikola` is for blogging.\n",
    "\n",
    "`qpub` has heuristics for discovering project metadata from existing content. with `qpub` it is possible to start with zero or partial configurations, and wide up with configurations for linting, packaging, documentation, testing, or blogging."
   ]
  },
  {
   "cell_type": "markdown",
   "metadata": {},
   "source": [
    "## the python backends\n",
    "\n",
    "`qpub` currently supports configurations for `setuptools, flit and poetry`. there is significant overlap in the contents of the configurations, but they have different forms. `qpub` serves as a practice to encode best practices for using different build systems to manage python packages."
   ]
  },
  {
   "cell_type": "markdown",
   "metadata": {},
   "source": [
    "### `pep517` and why it is important\n",
    "\n",
    "`pep517` introduces the `\"pyproject.toml\"` file as a configuration convention for python projects. \n",
    "\n",
    "pep517 is a specification and implementation.\n",
    "\n",
    "\n",
    "https://www.python.org/dev/peps/pep-0517/\n",
    "\n",
    "`flit` is a explicitly referenced in the specification.\n",
    "\n",
    "`poetry` is newer.\n",
    "\n",
    "the `\"pyproject.toml\"` file provides benefits to python authors because it allows support all of our configuration settings, that used to exist in separate files. There is a [_awesome list_](https://github.com/carlosperate/awesome-pyproject) for all of your favorite projects abiding the new convention.\n",
    "\n",
    "these projects may not be using theme as a build system, but authors can configuration the settings in there new projects. for example, `pytest, black, isort, coverage, flake8` are a short list of tools working with this convention.\n",
    "\n",
    "it is still possible to fall back to using the traditional `setuptools` conventions."
   ]
  },
  {
   "cell_type": "markdown",
   "metadata": {},
   "source": [
    "### the `flit` backend\n",
    "\n",
    "`flit` is a popular project for sharing ideas in python with the `pep517`. to use flit, we need abide a few conventions:\n",
    "1. the python project must have a docstring and version.\n",
    "2. the projects are not nested.\n",
    "3. there is no need for any custom build steps."
   ]
  },
  {
   "cell_type": "markdown",
   "metadata": {},
   "source": [
    "### the `poetry` backend\n",
    "\n",
    "it has lots of development features.\n",
    "\n",
    "`poetry` for managing and packaging python projects with the modern `pep517`.\n",
    "the `poetry` `\"pyproject.toml\"` configuration"
   ]
  },
  {
   "cell_type": "markdown",
   "metadata": {},
   "source": [
    "## testing backends\n",
    "\n",
    "`qpub` discovers test configurations and adds dependencies based on testing needs.\n",
    "\n",
    "### the `nox` backend\n",
    "\n",
    "`qpub` runs your tests in `nox`, `nox` is a isolated.\n",
    "\n",
    "### the `pytest` backend\n",
    "\n",
    "you may desire to run your tests in the current environment. currently, the solution is to configure the tests with `qpub` and run `pytest` alone."
   ]
  },
  {
   "cell_type": "markdown",
   "metadata": {},
   "source": [
    "## the documentation backends\n",
    "\n",
    "don't write your own documentation tools, and don't use unfun documentation systems.\n",
    "\n",
    "### the `jupyter_book` backend\n",
    "\n",
    "`qpub` was desired primarly with notebooks and markdown in mind. As a result, we chose `jupyter_book` as the primary documentation system for `qpub`.\n",
    "\n",
    "### the `sphinx` backend\n",
    "\n",
    "won't be hard, but haven't done it yet.\n",
    "\n",
    "### the `mkdocs` backend\n",
    "\n",
    "the `fastapi` docs do look phat."
   ]
  },
  {
   "cell_type": "markdown",
   "metadata": {},
   "source": [
    "## the linting backends\n",
    "\n",
    "### the `pre-commit` backend\n",
    "\n",
    "`qpub` infers the `pre-commit` hooks from the file suffixes in the project.\n",
    "it allows us to start with community sourced best-practices.\n",
    "\n",
    "`qpub` uses `pre_commit` as a swiss army knife for linting and formatting code.\n",
    "it doesn't install `pre-commit` but rather uses the __lint__ api to operate on the files in a project.\n",
    "\n",
    "\n",
    "### leaner linting formatting\n",
    "\n",
    "`pre_commit` has a lot of bang for its buck, but folks may desire learner environment like `flake8, pyflakes or pycodestyle`. we don't support that yet, but could."
   ]
  },
  {
   "cell_type": "code",
   "execution_count": null,
   "metadata": {},
   "outputs": [],
   "source": []
  }
 ],
 "metadata": {
  "kernelspec": {
   "display_name": "Python 3",
   "language": "python",
   "name": "python3"
  },
  "language_info": {
   "codemirror_mode": {
    "name": "ipython",
    "version": 3
   },
   "file_extension": ".py",
   "mimetype": "text/x-python",
   "name": "python",
   "nbconvert_exporter": "python",
   "pygments_lexer": "ipython3",
   "version": "3.7.7"
  }
 },
 "nbformat": 4,
 "nbformat_minor": 4
}
