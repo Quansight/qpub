{
 "cells": [
  {
   "cell_type": "markdown",
   "metadata": {},
   "source": [
    "# one notebook\n",
    "\n",
    "notebooks are literate programs encoded in json. as literate programs, they concurrently represent both code and formal documentation. a single notebook can be through of as a program, a test, or documentation.\n",
    "\n",
    "`dgaf` configures complete development environments for notebooks.\n",
    "\n",
    "> one blog post."
   ]
  },
  {
   "cell_type": "code",
   "execution_count": 1,
   "metadata": {},
   "outputs": [],
   "source": [
    "import pytest\n",
    "@pytest.fixture\n",
    "def project(pytester):\n",
    "    import nbformat, dgaf\n",
    "    name = \"sample_notebook_project\"\n",
    "    pytester.makefile(\".ipynb\", **{name: nbformat.v4.writes(\n",
    "        nbformat.v4.new_notebook(cells=[\n",
    "            nbformat.v4.new_markdown_cell(\"a sample notebook for testing.\"),\n",
    "            nbformat.v4.new_code_cell(\"import pandas\"),\n",
    "        ])\n",
    "    )})\n",
    "    project = dgaf.Project(pytester.path)\n",
    "    yield project"
   ]
  },
  {
   "cell_type": "code",
   "execution_count": 2,
   "metadata": {},
   "outputs": [],
   "source": [
    "def test_cli(pytester, project):\n",
    "    configure = pytester.run(*\"python -m dgaf configure --no-venv\".split())\n",
    "    assert not configure.ret\n",
    "    assert not pytester.run(*\"python -m pip install . --no-deps\".split()).ret\n",
    "    import importlib_metadata\n",
    "    assert importlib_metadata.distribution(\"sample_notebook_project\")\n",
    "    with __import__('importnb').Notebook():\n",
    "        import sample_notebook_project"
   ]
  },
  {
   "cell_type": "code",
   "execution_count": 3,
   "metadata": {},
   "outputs": [],
   "source": [
    "def test_project(project):\n",
    "    import dgaf\n",
    "    assert project.fs.files\n",
    "    assert project.get_name() == \"sample_notebook_project\"\n",
    "    assert \"nbval\" in project.get_test_requires()\n",
    "    assert not project.get_url()\n",
    "    assert project.get_requires() == [\"pandas\"]"
   ]
  },
  {
   "cell_type": "code",
   "execution_count": 4,
   "metadata": {},
   "outputs": [],
   "source": [
    "def test_flit(pytester, project):\n",
    "    # when there is no url we can initialize one in a few ways.\n",
    "    import dgaf, shutil\n",
    "    pyproject = project/dgaf.PYPROJECT_TOML\n",
    "    assert not pyproject.exists()\n",
    "    project.to_flit()\n",
    "    assert pyproject.exists()\n",
    "    assert not pytester.run(*\"flit build\".split()).ret"
   ]
  },
  {
   "cell_type": "code",
   "execution_count": 5,
   "metadata": {},
   "outputs": [],
   "source": [
    "def test_setuptools(pytester, project):\n",
    "    import dgaf\n",
    "    setup = project/dgaf.SETUP_CFG\n",
    "    assert not setup.exists()\n",
    "    project.to_setuptools()\n",
    "    assert setup.exists()\n",
    "    project.to_setup_py()\n",
    "    assert not (pytester.run(*\"python setup.py build --dry-run\".split())).ret"
   ]
  },
  {
   "cell_type": "markdown",
   "metadata": {},
   "source": [
    "## a blog post\n",
    "\n",
    "a useful pattern for developing blog content is to decouple the posts as gist, then reference them in a macro repository that handles general publishing. each blog post(s), as small units of though in `gist`, make them postable as gist."
   ]
  },
  {
   "cell_type": "markdown",
   "metadata": {},
   "source": [
    "A single notebook, markdown file, or rst document may represent a post in the file name conforms to the `\"YYYY-MM-DD-title.ext\"` pattern."
   ]
  },
  {
   "cell_type": "code",
   "execution_count": 6,
   "metadata": {},
   "outputs": [],
   "source": [
    "import pytest\n",
    "@pytest.fixture\n",
    "def post(pytester):\n",
    "    import nbformat, dgaf\n",
    "    name = \"2020-12-25-a-notebook-post\"\n",
    "    pytester.makefile(\".ipynb\", **{name: nbformat.v4.writes(\n",
    "        nbformat.v4.new_notebook(cells=[\n",
    "            nbformat.v4.new_markdown_cell(\"a sample notebook for testing.\"),\n",
    "            nbformat.v4.new_code_cell(\"import pandas\"),\n",
    "        ])\n",
    "    )})\n",
    "    yield dgaf.Project(pytester.path)"
   ]
  },
  {
   "cell_type": "code",
   "execution_count": 7,
   "metadata": {},
   "outputs": [],
   "source": [
    "def test_post(pytester, post):\n",
    "    import dgaf\n",
    "    name = post.get_name()\n",
    "    assert name == \"a_notebook_post\"\n",
    "    post.to_flit()\n",
    "    assert not pytester.run(*\"flit build\".split()).ret"
   ]
  }
 ],
 "metadata": {
  "kernelspec": {
   "display_name": "Python 3",
   "language": "python",
   "name": "python3"
  },
  "language_info": {
   "codemirror_mode": {
    "name": "ipython",
    "version": 3
   },
   "file_extension": ".py",
   "mimetype": "text/x-python",
   "name": "python",
   "nbconvert_exporter": "python",
   "pygments_lexer": "ipython3",
   "version": "3.7.7"
  }
 },
 "nbformat": 4,
 "nbformat_minor": 4
}
