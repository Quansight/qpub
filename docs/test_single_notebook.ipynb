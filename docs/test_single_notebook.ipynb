{
 "cells": [
  {
   "cell_type": "markdown",
   "metadata": {},
   "source": [
    "# one notebook\n",
    "\n",
    "notebooks are literate programs encoded in json. as literate programs, they concurrently represent both code and formal documentation. a single notebook can be through of as a program, a test, or documentation.\n",
    "\n",
    "`dgaf` configures complete development environments for notebooks.\n",
    "\n",
    "> one blog post."
   ]
  },
  {
   "cell_type": "code",
   "execution_count": 2,
   "metadata": {},
   "outputs": [],
   "source": [
    "    import nbformat, pytest\n",
    "    @pytest.fixture\n",
    "    def project(pytester):\n",
    "        import nbformat, dgaf\n",
    "        pytester.makefile(\".ipynb\", sample_notebook_project=nbformat.v4.writes(\n",
    "            nbformat.v4.new_notebook(cells=[\n",
    "                nbformat.v4.new_markdown_cell(\"a sample notebook for testing.\"),\n",
    "                nbformat.v4.new_code_cell(\"import pandas\"),\n",
    "            ])\n",
    "        ))\n",
    "        yield dgaf.Project(pytester.path)\n",
    "        "
   ]
  },
  {
   "cell_type": "code",
   "execution_count": null,
   "metadata": {},
   "outputs": [],
   "source": [
    "    def test_project(project):\n",
    "        project.get_name() == \"sample_notebook_project\""
   ]
  },
  {
   "cell_type": "code",
   "execution_count": 2,
   "metadata": {},
   "outputs": [],
   "source": [
    "    @pytest.fixture\n",
    "    def post(pytester):\n",
    "        import nbformat, dgaf\n",
    "        pytester.makefile(\".ipynb\", sample_notebook_project=nbformat.v4.writes(\n",
    "            nbformat.v4.new_notebook(cells=[\n",
    "                nbformat.v4.new_markdown_cell(\"a sample notebook for testing.\"),\n",
    "                nbformat.v4.new_code_cell(\"import pandas\"),\n",
    "            ])\n",
    "        ))\n",
    "        yield dgaf.Project(pytester.path)\n",
    "        "
   ]
  }
 ],
 "metadata": {
  "kernelspec": {
   "display_name": "Python 3",
   "language": "python",
   "name": "python3"
  },
  "language_info": {
   "codemirror_mode": {
    "name": "ipython",
    "version": 3
   },
   "file_extension": ".py",
   "mimetype": "text/x-python",
   "name": "python",
   "nbconvert_exporter": "python",
   "pygments_lexer": "ipython3",
   "version": "3.7.7"
  }
 },
 "nbformat": 4,
 "nbformat_minor": 4
}
