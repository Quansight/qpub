{
 "cells": [
  {
   "cell_type": "markdown",
   "metadata": {},
   "source": [
    "# the `qpub` backends\n",
    "\n",
    "`qpub` tries to support as many different tools in python.\n",
    "the main strategy and api of `qpub` is to use backends that are\n",
    "designed for specific tasks like `pre-commit` is formatting/linting,\n",
    "`jupyter_book` is for documentation, and `nikola` is for blogging."
   ]
  },
  {
   "cell_type": "markdown",
   "metadata": {},
   "source": [
    "## the python backends\n",
    "\n",
    "`qpub` currently supports configurations for `setuptools, flit and poetry`. there is significant overlap in the contents of the configurations, but they have different forms. `qpub` serves as a practice to encode best practices for using different build systems to manage python packages."
   ]
  },
  {
   "cell_type": "markdown",
   "metadata": {},
   "source": [
    "### `pep517` and why it is important\n",
    "\n",
    "`pep517` introduces the `\"pyproject.toml\"` file as a configuration convention for python projects. \n",
    "\n",
    "\n",
    "the `\"pyproject.toml\"` file provides benefits to python authors because it allows support all of our configuration settings, that used to exist in separate files. There is a [_awesome list_](https://github.com/carlosperate/awesome-pyproject) for all of your favorite projects abiding the new convention.\n",
    "\n",
    "these projects may not be using theme as a build system, but authors can configuration the settings in there new projects.\n",
    "\n",
    "it is still possible to fall back to using the traditional `setuptools` conventions."
   ]
  },
  {
   "cell_type": "markdown",
   "metadata": {},
   "source": [
    "### the `flit` backend\n",
    "\n",
    "`flit` is a popular project for sharing ideas in python with the `pep517`. to use flit, we need abide a few conventions:\n",
    "1. the python project must have a docstring and version.\n",
    "2. the projects are not nested.\n",
    "3. there is no need for any custom build steps."
   ]
  },
  {
   "cell_type": "markdown",
   "metadata": {},
   "source": [
    "### the `poetry` backend\n",
    "\n",
    "`poetry` for managing and packaging python projects with the modern `pep517`.\n",
    "the `poetry` `\"pyproject.toml\"` configuration"
   ]
  },
  {
   "cell_type": "markdown",
   "metadata": {},
   "source": [
    "## testing backends\n",
    "\n",
    "### the `nox` backend\n",
    "\n",
    "by default everything runs isolated in `nox`!"
   ]
  },
  {
   "cell_type": "markdown",
   "metadata": {},
   "source": [
    "## the documentation backends\n",
    "\n",
    "### the `jupyter_book` backend"
   ]
  }
 ],
 "metadata": {
  "kernelspec": {
   "display_name": "Python 3",
   "language": "python",
   "name": "python3"
  },
  "language_info": {
   "codemirror_mode": {
    "name": "ipython",
    "version": 3
   },
   "file_extension": ".py",
   "mimetype": "text/x-python",
   "name": "python",
   "nbconvert_exporter": "python",
   "pygments_lexer": "ipython3",
   "version": "3.7.7"
  }
 },
 "nbformat": 4,
 "nbformat_minor": 4
}
