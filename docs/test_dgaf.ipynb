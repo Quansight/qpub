{
 "cells": [
  {
   "cell_type": "code",
   "execution_count": 11,
   "metadata": {},
   "outputs": [],
   "source": [
    "    import pytest"
   ]
  },
  {
   "cell_type": "markdown",
   "metadata": {},
   "source": [
    "There are small variations in the form of directories for python projects:\n",
    "1. flat files like a gist.\n",
    "2. files in directories.\n",
    "3. [src file convention][src].\n",
    "\n",
    "From the contents, we can infer metadata about the project that configure different\n",
    "project distributions like the python package, the documentation, the tests.\n",
    "`qpub` provides heuristics for creating configurations that enrich the development\n",
    "experience around content. `qpub` effectively manages common metadata that becomes \n",
    "redundant across configuration files.\n",
    "\n",
    "\n",
    "[src]: https://blog.ionelmc.ro/2014/05/25/python-packaging/#the-structure"
   ]
  },
  {
   "cell_type": "code",
   "execution_count": null,
   "metadata": {},
   "outputs": [],
   "source": []
  },
  {
   "cell_type": "markdown",
   "metadata": {},
   "source": [
    "    def test_this(simple_python_script_project):\n",
    "        import dgaf, importlib_metadata\n",
    "        project = dgaf.Project(simple_python_script_project.path)\n",
    "        with pytest.raises(importlib_metadata.PackageNotFoundError):\n",
    "            importlib_metadata.distribution(\"sample_project\")\n",
    "            \n",
    "        pyproject = simple_python_script_project.path / \"pyproject.toml\"\n",
    "        assert not pyproject.exists()\n",
    "        project.to_flit()\n",
    "        assert pyproject.exists()\n",
    "        out = simple_python_script_project.run(\n",
    "            *F\"pip install {simple_python_script_project.path}\".split())\n",
    "        assert not out.ret, \"the command failed\"\n",
    "        print(2,out)\n",
    "        assert importlib_metadata.distribution(\"sample_project\")"
   ]
  },
  {
   "cell_type": "markdown",
   "metadata": {},
   "source": [
    "`dgaf.File` objects use the suffix to infer tools for updating/editting files in place. It understands ini, cfg, toml, and yaml."
   ]
  },
  {
   "cell_type": "code",
   "execution_count": 13,
   "metadata": {},
   "outputs": [],
   "source": [
    "def test_ini(tmpdir):\n",
    "    import dgaf\n",
    "    file = dgaf.File(tmpdir/ \"test_ini.ini\")\n",
    "    file.update(dict(options=dict(\n",
    "        name=\"test\"\n",
    "    )))\n",
    "    file.update(dict(options=dict(\n",
    "        something=\"else\"\n",
    "    )))"
   ]
  },
  {
   "cell_type": "code",
   "execution_count": null,
   "metadata": {},
   "outputs": [],
   "source": []
  }
 ],
 "metadata": {
  "kernelspec": {
   "display_name": "Python 3",
   "language": "python",
   "name": "python3"
  },
  "language_info": {
   "codemirror_mode": {
    "name": "ipython",
    "version": 3
   },
   "file_extension": ".py",
   "mimetype": "text/x-python",
   "name": "python",
   "nbconvert_exporter": "python",
   "pygments_lexer": "ipython3",
   "version": "3.7.7"
  }
 },
 "nbformat": 4,
 "nbformat_minor": 4
}
