{
 "cells": [
  {
   "cell_type": "markdown",
   "metadata": {},
   "source": [
    "test the `qpub` command line interface."
   ]
  },
  {
   "cell_type": "code",
   "execution_count": 1,
   "metadata": {},
   "outputs": [],
   "source": [
    "    import qpub.main, qpub.base, contextlib, io, git\n",
    "    import pytest"
   ]
  },
  {
   "cell_type": "markdown",
   "metadata": {},
   "source": [
    "the first hose tests overlay multiple project forms over top each other. there tests are interactive examples of `qpub`"
   ]
  },
  {
   "cell_type": "markdown",
   "metadata": {},
   "source": [
    "`qpub` considers three major layout forms:\n",
    "\n",
    "- flat gist style forms without any directories.\n",
    "- nested directories.\n",
    "- nested src file directories.\n",
    "\n",
    "our documentation goes in the docs folder, and the documentation is built there according to the accepted gitignore convention.\n",
    "\n",
    "in the beginning of project, we include all tests in the project. the `docs` folder is always tested, except for the built artifacts,\n",
    "so this is another sink for tests, or tested literature."
   ]
  },
  {
   "cell_type": "markdown",
   "metadata": {},
   "source": [
    "* check for entry points\n",
    "* check for test requirements."
   ]
  },
  {
   "cell_type": "code",
   "execution_count": 2,
   "metadata": {},
   "outputs": [],
   "source": [
    "    import pytest"
   ]
  },
  {
   "cell_type": "markdown",
   "metadata": {},
   "source": [
    "in this test, we'll deploy the same project three different ways using the `qpub` api."
   ]
  },
  {
   "cell_type": "markdown",
   "metadata": {},
   "source": [
    "configuring a small project."
   ]
  },
  {
   "cell_type": "code",
   "execution_count": 3,
   "metadata": {},
   "outputs": [],
   "source": [
    "    @pytest.fixture\n",
    "    def project(simple_python_script_project):\n",
    "        import qpub\n",
    "        project = qpub.base.Project(repo=simple_python_script_project)\n",
    "        assert project.repo.working_dir == str(simple_python_script_project)\n",
    "        assert not project.files\n",
    "        project.add(\n",
    "            simple_python_script_project/\"sample_project.py\",\n",
    "            simple_python_script_project/\"test_project.py\"\n",
    "        )\n",
    "        assert project.files\n",
    "        yield project"
   ]
  },
  {
   "cell_type": "markdown",
   "metadata": {},
   "source": [
    "## configure `flit`"
   ]
  },
  {
   "cell_type": "code",
   "execution_count": 4,
   "metadata": {},
   "outputs": [],
   "source": [
    "    def test_simple_script_project_flit(project):\n",
    "        import qpub.flit_\n",
    "        pyproject = (project.repo.working_dir / qpub.files.PYPROJECT_TOML)\n",
    "        \n",
    "        assert not pyproject.exists()\n",
    "        \n",
    "        flit = qpub.flit_.Flit(project.repo.working_dir)\n",
    "        flit.dump()\n",
    "        data = pyproject.load()\n",
    "        assert pyproject.exists() and data\n",
    "        assert \"tool\" in data and \"flit\" in data[\"tool\"]\n",
    "        print(data.get(\"tool\", {}).get(\"flit\", {}).get(\"metadata\", {}).get(\"requires\", []))\n",
    "        assert [\"pandas\"] == data.get(\"tool\", {}).get(\"flit\", {}).get(\"metadata\", {}).get(\"requires\", [])\n",
    "        assert \"hypothesis\" in data.get(\"tool\", {}).get(\"flit\", {}).get(\"metadata\", {}).get(\"requires-extra\", {}).get(\"test\", [])\n",
    "        \n",
    "        "
   ]
  },
  {
   "cell_type": "markdown",
   "metadata": {},
   "source": [
    "## configure `setuptools`"
   ]
  },
  {
   "cell_type": "code",
   "execution_count": 5,
   "metadata": {},
   "outputs": [],
   "source": [
    "    def test_simple_script_project_setuptools(project):\n",
    "        import qpub.setuptools_\n",
    "        \n",
    "#         \n",
    "#         assert not (project.repo.working_dir / qpub.files.SETUP_CFG).exists()\n",
    "        \n",
    "#         qpub.setuptools_.Setuptools.dump(project)\n",
    "#         assert (project.repo.working_dir / qpub.files.SETUP_CFG).exists()\n"
   ]
  },
  {
   "cell_type": "markdown",
   "metadata": {},
   "source": [
    "## configure `poetry`"
   ]
  },
  {
   "cell_type": "code",
   "execution_count": 6,
   "metadata": {},
   "outputs": [],
   "source": [
    "    def test_simple_script_project_poetry(project):\n",
    "        import qpub.poetry_\n",
    "        pyproject = (project.repo.working_dir / qpub.files.PYPROJECT_TOML)\n",
    "\n",
    "        \n",
    "        poetry = qpub.poetry_.Poetry(project.repo.working_dir)\n",
    "        poetry.dump()\n",
    "        \n",
    "        \n",
    "        tools = pyproject.load().get(\"tool\", {})\n",
    "        assert \"poetry\" in tools"
   ]
  }
 ],
 "metadata": {
  "kernelspec": {
   "display_name": "Python 3",
   "language": "python",
   "name": "python3"
  },
  "language_info": {
   "codemirror_mode": {
    "name": "ipython",
    "version": 3
   },
   "file_extension": ".py",
   "mimetype": "text/x-python",
   "name": "python",
   "nbconvert_exporter": "python",
   "pygments_lexer": "ipython3",
   "version": "3.7.7"
  }
 },
 "nbformat": 4,
 "nbformat_minor": 4
}
