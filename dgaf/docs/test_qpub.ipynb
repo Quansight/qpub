{
 "cells": [
  {
   "cell_type": "markdown",
   "metadata": {},
   "source": [
    "`qpub` is for configuring and distributing ideas."
   ]
  },
  {
   "cell_type": "markdown",
   "metadata": {},
   "source": [
    "`qpub` infers complete configurations from underlying content in a repository.\n",
    "primarily the tasks target `setup.cfg` and `pyproject.toml`, and provide\n",
    "a sink for changing upcoming convention changes in python."
   ]
  },
  {
   "cell_type": "code",
   "execution_count": 1,
   "metadata": {},
   "outputs": [
    {
     "name": "stdout",
     "output_type": "stream",
     "text": [
      "/home/tonyfast/Documents/dgaf\n",
      "\n",
      "self\n",
      "\n",
      "status     : run\n",
      " * The task has no dependencies.\n",
      "\n",
      "task_dep   : \n",
      " - self:setup.cfg\n",
      " - self:__init__.py\n",
      " - self:MANIFEST.in\n",
      " - self:setup.py\n",
      " - self:discover-dependencies\n",
      " - self:infer-pre-commit\n",
      " - self:install-pre-commit-hooks\n",
      " - self:install-pytest\n",
      " - self:install-jupyter_book\n",
      " - self:develop-package\n",
      " - self:format-lint\n",
      " - self:test-pytest\n",
      " - self:build-html-docs\n"
     ]
    }
   ],
   "source": [
    "    import dgaf\n",
    "\n",
    "    if not dgaf.base.File('.git').exists():\n",
    "        %pushd ../..\n",
    "\n",
    "    self = dgaf.base.Post()\n",
    "\n",
    "    %reload_ext doit\n",
    "\n",
    "    %doit info self"
   ]
  },
  {
   "cell_type": "markdown",
   "metadata": {},
   "source": [
    "    %doit self"
   ]
  },
  {
   "cell_type": "code",
   "execution_count": 3,
   "metadata": {},
   "outputs": [],
   "source": [
    "    def view(**kwargs):\n",
    "        import pandas\n",
    "\n",
    "        df = __import__(\"pandas\").DataFrame(dgaf.base.Tasks(**kwargs))\n",
    "\n",
    "        networkx = __import__('networkx')\n",
    "        matplotlib = __import__('matplotlib')\n",
    "\n",
    "        g = df['file_dep name targets'.split()].set_index('name')['file_dep'].apply(pandas.Series).stack().reset_index(-1, drop=True).to_frame('source').join(\n",
    "            df['file_dep name targets'.split()].set_index('name')['targets'].apply(pandas.Series).stack().reset_index(-1, drop=True).rename('target')\n",
    "        ).dropna().pipe(networkx.from_pandas_edgelist, create_using=networkx.DiGraph())\n",
    "\n",
    "        networkx.draw_networkx(g)    \n",
    "        matplotlib.pyplot.gcf().set_size_inches((12,12))"
   ]
  }
 ],
 "metadata": {
  "kernelspec": {
   "display_name": "Python 3",
   "language": "python",
   "name": "python3"
  },
  "language_info": {
   "codemirror_mode": {
    "name": "ipython",
    "version": 3
   },
   "file_extension": ".py",
   "mimetype": "text/x-python",
   "name": "python",
   "nbconvert_exporter": "python",
   "pygments_lexer": "ipython3",
   "version": "3.7.7"
  }
 },
 "nbformat": 4,
 "nbformat_minor": 4
}
