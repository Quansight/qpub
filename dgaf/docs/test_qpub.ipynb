{
 "cells": [
  {
   "cell_type": "markdown",
   "metadata": {},
   "source": [
    "`qpub` is for configuring and distributing ideas."
   ]
  },
  {
   "cell_type": "markdown",
   "metadata": {},
   "source": [
    "`qpub` infers complete configurations from underlying content in a repository.\n",
    "primarily the tasks target `setup.cfg` and `pyproject.toml`, and provide\n",
    "a sink for changing upcoming convention changes in python."
   ]
  },
  {
   "cell_type": "markdown",
   "metadata": {},
   "source": [
    "import dgaf\n",
    "\n",
    "if not dgaf.base.File('.git').exists():\n",
    "    %pushd ../..\n",
    "\n",
    "self = dgaf.base.Distribution()\n",
    "\n",
    "%reload_ext doit\n",
    "\n",
    "%doit info self"
   ]
  },
  {
   "cell_type": "code",
   "execution_count": 1,
   "metadata": {},
   "outputs": [],
   "source": [
    "    def view(**kwargs):\n",
    "        pandas = __import__(\"pandas\")\n",
    "\n",
    "        df = pandas.DataFrame(dgaf.base.Tasks(**kwargs))\n",
    "\n",
    "        networkx = __import__('networkx')\n",
    "        matplotlib = __import__('matplotlib')\n",
    "\n",
    "        g = df['file_dep name targets'.split()].set_index('name')['file_dep'].apply(pandas.Series).stack().reset_index(-1, drop=True).to_frame('source').join(\n",
    "            df['file_dep name targets'.split()].set_index('name')['targets'].apply(pandas.Series).stack().reset_index(-1, drop=True).rename('target')\n",
    "        ).dropna().pipe(networkx.from_pandas_edgelist, create_using=networkx.DiGraph())\n",
    "\n",
    "        networkx.draw_networkx(g)    \n",
    "        matplotlib.pyplot.gcf().set_size_inches((12,12))"
   ]
  }
 ],
 "metadata": {
  "kernelspec": {
   "display_name": "Python 3",
   "language": "python",
   "name": "python3"
  },
  "language_info": {
   "codemirror_mode": {
    "name": "ipython",
    "version": 3
   },
   "file_extension": ".py",
   "mimetype": "text/x-python",
   "name": "python",
   "nbconvert_exporter": "python",
   "pygments_lexer": "ipython3",
   "version": "3.7.7"
  }
 },
 "nbformat": 4,
 "nbformat_minor": 4
}
