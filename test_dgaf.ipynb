{
 "cells": [
  {
   "cell_type": "markdown",
   "metadata": {},
   "source": [
    "# `dgaf` tests\n",
    "\n",
    "`dgaf` tests three major aspects of the project:\n",
    "\n",
    "1. inference - `dgaf` infers project configurations from the conformation of documents in folders and repositories.\n",
    "2. configuration - `dgaf` generates configuration files for projects in different file formats.\n",
    "3. verify - `dgaf` verifies that the configuration files are compliant with their corresponding tools.\n",
    "\n",
    "[there are more tests in the documentation](docs/readme.md)"
   ]
  },
  {
   "cell_type": "markdown",
   "metadata": {},
   "source": [
    "    [tool.dgaf]\n",
    "    id = \"<url>\"\n",
    "    infer = False\n",
    "    build = \"flit\"\n",
    "    install = \"conda\"\n",
    "    develop = True\n",
    "    docs = \"jupyter-book\"\n",
    "    lint = \"flakehell/pre-commit\"\n",
    "    name = \"tonyfast\"\n",
    "    email = \"tony.fast@gmail.com\"\n",
    "    venv = True"
   ]
  },
  {
   "cell_type": "markdown",
   "metadata": {},
   "source": [
    "## test functions"
   ]
  },
  {
   "cell_type": "markdown",
   "metadata": {},
   "source": [
    "`inference` tests the interactive `dgaf` api for its ability to generate the proper configurations for the `project`."
   ]
  },
  {
   "cell_type": "code",
   "execution_count": 1,
   "metadata": {},
   "outputs": [],
   "source": [
    "    def inference(pytester, project):\n",
    "        assert project.is_flit()\n",
    "        assert project.get_name() == \"my_idea\"\n",
    "        assert project.get_description() == \"my projects docstring\"\n",
    "        assert project.get_version() == \"0.0.1\"\n",
    "        assert project.get_requires() == [\"pandas\"]"
   ]
  },
  {
   "cell_type": "markdown",
   "metadata": {},
   "source": [
    "`configuration` tests the ability for the `project` to configure itself. the primary intent of `dgaf` is distribution literate programs as literature and software. below we test the abilities to:\n",
    "\n",
    "* generate pyproject.toml file for building the project.\n",
    "* generate table of contents and documentation configuration.\n",
    "* configure the linters and formatters\n",
    "\n",
    "a lot of information can be encoded in a the `pyproject.toml` file. `dgaf` configures `flakehell, pytest and flit` in these tests."
   ]
  },
  {
   "cell_type": "code",
   "execution_count": 9,
   "metadata": {},
   "outputs": [],
   "source": [
    "    def configuration(pytester, project):\n",
    "        project.add(\"python\")\n",
    "        assert (project/ \"pyproject.toml\").exists()\n",
    "        \n",
    "        project.add(\"docs\")\n",
    "        assert (project/ \"docs/_toc.yml\").exists() and (project/ \"docs/_config.yml\").exists()\n",
    "        \n",
    "        project.add(\"lint\")\n",
    "        assert (project / '.pre-commit-config.yaml').exists()        "
   ]
  },
  {
   "cell_type": "markdown",
   "metadata": {},
   "source": [
    "`verify` checks the ability of different tools to use the generated configurations.\n",
    "\n",
    "the conventions we choose have either implicit/explicit schema and uses consumers of those schema to verify the configuration has the appropriate forms. we do not explicitly verify schema with `dgaf`."
   ]
  },
  {
   "cell_type": "code",
   "execution_count": 10,
   "metadata": {},
   "outputs": [],
   "source": [
    "    def verify(pytester, project):\n",
    "        import dgaf\n",
    "        pyproject = dgaf.File(project/ \"pyproject.toml\").load()\n",
    "        print(pyproject)\n",
    "        tool = pyproject.get(\"tool\", {})\n",
    "        assert all(x in tool for x in \"flit pytest\".split())\n",
    "        assert not pytester.run(*\"flit build --format sdist\".split()).ret"
   ]
  },
  {
   "cell_type": "markdown",
   "metadata": {},
   "source": [
    "## the test objects"
   ]
  },
  {
   "cell_type": "markdown",
   "metadata": {},
   "source": [
    "`build` creates a test directory from nested dictionaries."
   ]
  },
  {
   "cell_type": "code",
   "execution_count": 11,
   "metadata": {},
   "outputs": [],
   "source": [
    "    import pathlib, pytest\n",
    "    def build(pytester, object, where=None):\n",
    "        for key, value in object.items():\n",
    "            if isinstance(value, str):\n",
    "                file = (where or pathlib.Path()) / key\n",
    "                if where:\n",
    "                    where.mkdir(exist_ok=True, parents=True)\n",
    "                if file.suffix == \".ipynb\":\n",
    "                    import nbformat\n",
    "                    value = nbformat.v4.writes(nbformat.v4.new_notebook(cells=[nbformat.v4.new_code_cell(contents)]))\n",
    "                pytester.makefile(file.suffix, **{\n",
    "                    str(file.with_suffix(\"\")): value\n",
    "                })\n",
    "            elif isinstance(value, dict):\n",
    "                build(pytester, value, where=(where or pathlib.Path())/key)"
   ]
  },
  {
   "cell_type": "markdown",
   "metadata": {},
   "source": [
    "for this test document we'll consider a simple project with the contents below. in the `contents`, we need to explicitly provide a docstring and version to cooperate with `flit`s model."
   ]
  },
  {
   "cell_type": "code",
   "execution_count": 12,
   "metadata": {},
   "outputs": [],
   "source": [
    "    contents = \"\"\"'''my projects docstring'''\n",
    "    __version__ = \"0.0.1\"\n",
    "    \n",
    "    import pandas\n",
    "    \"\"\""
   ]
  },
  {
   "cell_type": "markdown",
   "metadata": {},
   "source": [
    "it allows different layouts, like `python_layouts` to be used as test input."
   ]
  },
  {
   "cell_type": "code",
   "execution_count": 13,
   "metadata": {},
   "outputs": [],
   "source": [
    "    python_layouts = [{\n",
    "        \"my_idea.py\": contents\n",
    "    }, dict(\n",
    "        my_idea={\n",
    "            \"__init__.py\": contents\n",
    "        }\n",
    "    ), dict(\n",
    "        src=dict(\n",
    "            my_idea={\n",
    "                \"__init__.py\": contents\n",
    "            }\n",
    "        )\n",
    "    ), {\n",
    "        \"my_idea.ipynb\": contents\n",
    "    }]"
   ]
  },
  {
   "cell_type": "code",
   "execution_count": 14,
   "metadata": {},
   "outputs": [],
   "source": [
    "    @pytest.mark.parametrize(\"layout\", python_layouts)\n",
    "    def test_python(pytester, layout):\n",
    "        import dgaf\n",
    "        build(pytester, layout)\n",
    "        project = dgaf.Project(pytester.path)\n",
    "        configuration(pytester, project)\n",
    "        project = dgaf.Project(pytester.path)\n",
    "        assert project.is_flit()\n",
    "        inference(pytester, project)\n",
    "        verify(pytester, project)"
   ]
  },
  {
   "cell_type": "markdown",
   "metadata": {},
   "source": [
    "## test the `src.dgaf` directly."
   ]
  },
  {
   "cell_type": "code",
   "execution_count": 1,
   "metadata": {},
   "outputs": [],
   "source": [
    "    import dgaf"
   ]
  },
  {
   "cell_type": "code",
   "execution_count": 3,
   "metadata": {},
   "outputs": [
    {
     "data": {
      "text/plain": [
       "'dgaf'"
      ]
     },
     "execution_count": 3,
     "metadata": {},
     "output_type": "execute_result"
    }
   ],
   "source": [
    "    "
   ]
  },
  {
   "cell_type": "code",
   "execution_count": 15,
   "metadata": {},
   "outputs": [],
   "source": [
    "    def test_dgaf_project():\n",
    "        from src import dgaf        \n",
    "        self = project = dgaf.Project()\n",
    "        assert project.get_name() == \"dgaf\" == dgaf.Project(\"src\").get_name()\n",
    "        assert project.is_flit()\n",
    "        assert project.get_description()\n",
    "        requires = [\"nox\", \"typer\"]\n",
    "        print(project.get_requires())\n",
    "        \n",
    "        assert project.get_requires() == [\"nox\", \"typer\"]\n",
    "        assert project.get_url()\n",
    "        assert \"@\" in project.get_email()\n",
    "        assert 'docs/_build/' in project.get_exclude()"
   ]
  }
 ],
 "metadata": {
  "jupytext": {
   "formats": "ipynb,py:percent"
  },
  "kernelspec": {
   "display_name": "Python 3",
   "language": "python",
   "name": "python3"
  },
  "language_info": {
   "codemirror_mode": {
    "name": "ipython",
    "version": 3
   },
   "file_extension": ".py",
   "mimetype": "text/x-python",
   "name": "python",
   "nbconvert_exporter": "python",
   "pygments_lexer": "ipython3",
   "version": "3.7.7"
  }
 },
 "nbformat": 4,
 "nbformat_minor": 4
}
