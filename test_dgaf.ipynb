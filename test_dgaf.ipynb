{
 "cells": [
  {
   "cell_type": "markdown",
   "metadata": {},
   "source": [
    "Test the `dgaf` api on itself, it infers project information that can be used as an example test for project with modules in a named directory. it works with flit."
   ]
  },
  {
   "cell_type": "code",
   "execution_count": 1,
   "metadata": {},
   "outputs": [],
   "source": [
    "    def test_dgaf_project():\n",
    "        import dgaf\n",
    "        self = project = dgaf.Project()\n",
    "        assert project.get_name() == \"dgaf\"\n",
    "        requires = [\"nox\", \"typer\"]\n",
    "        assert project.get_requires() == [\"nox\", \"typer\"]\n",
    "        assert project.get_url()"
   ]
  }
 ],
 "metadata": {
  "kernelspec": {
   "display_name": "Python 3",
   "language": "python",
   "name": "python3"
  },
  "language_info": {
   "codemirror_mode": {
    "name": "ipython",
    "version": 3
   },
   "file_extension": ".py",
   "mimetype": "text/x-python",
   "name": "python",
   "nbconvert_exporter": "python",
   "pygments_lexer": "ipython3",
   "version": "3.7.7"
  }
 },
 "nbformat": 4,
 "nbformat_minor": 4
}
