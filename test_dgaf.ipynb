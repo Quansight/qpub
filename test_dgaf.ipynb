{
 "cells": [
  {
   "cell_type": "markdown",
   "metadata": {},
   "source": [
    "# `dgaf` tests\n"
   ]
  },
  {
   "cell_type": "markdown",
   "metadata": {},
   "source": [
    "one way to use dgaf is it with the `doit` line magic; load the `dgaf` ipython extension with"
   ]
  },
  {
   "cell_type": "code",
   "execution_count": 1,
   "metadata": {},
   "outputs": [],
   "source": [
    "    %reload_ext src.dgaf"
   ]
  },
  {
   "cell_type": "markdown",
   "metadata": {},
   "source": [
    "to reveal this mode."
   ]
  },
  {
   "cell_type": "markdown",
   "metadata": {},
   "source": [
    "below we generate a list of develop the tasks `dgaf` is configured with:"
   ]
  },
  {
   "cell_type": "code",
   "execution_count": 2,
   "metadata": {},
   "outputs": [
    {
     "name": "stdout",
     "output_type": "stream",
     "text": [
      "blog               infer the nikola blog documentation configuration.\n",
      "build              build the python project.\n",
      "conda              install conda requirements\n",
      "config             infer the jupyter_book documentation configuration.\n",
      "develop            install the project in development mode.\n",
      "environment_yaml   infer the project dependencies and write them to an environment.yaml\n",
      "install            install the packages into the sys.packages\n",
      "jupyter_book       \n",
      "mkdocs             build the documentation with mkdocs\n",
      "mkdocs_yml         infer the mkdocs documentation configuration.\n",
      "nikola             build the documentation with nikola\n",
      "pip                install pip requirements\n",
      "pyproject          infer the pyproject.toml configuration for the project\n",
      "requirements_txt   infer the project dependencies and write them to a requirements.txt\n",
      "setup_cfg          infer the declarative setup.cfg configuration for the project\n",
      "sphinx             build the documentation with sphinx\n",
      "test               \n",
      "toc                infer the table of contents for the jupyter_book documentation.\n"
     ]
    }
   ],
   "source": [
    "%doit list"
   ]
  },
  {
   "cell_type": "markdown",
   "metadata": {},
   "source": [
    "we forget all of our tasks for testing purposes, this is a feature for the `doit` command line that we rely entirely on."
   ]
  },
  {
   "cell_type": "code",
   "execution_count": 3,
   "metadata": {},
   "outputs": [
    {
     "name": "stdout",
     "output_type": "stream",
     "text": [
      "forgetting all tasks\n"
     ]
    }
   ],
   "source": [
    "%doit forget"
   ]
  },
  {
   "cell_type": "markdown",
   "metadata": {},
   "source": [
    "below we ask information about the `pyproject` task."
   ]
  },
  {
   "cell_type": "code",
   "execution_count": 4,
   "metadata": {},
   "outputs": [
    {
     "name": "stdout",
     "output_type": "stream",
     "text": [
      "\n",
      "pyproject\n",
      "\n",
      "infer the pyproject.toml configuration for the project\n",
      "\n",
      "status     : run\n",
      " * The following file dependencies have changed:\n",
      "    - requirements.txt\n",
      "\n",
      "file_dep   : \n",
      " - requirements.txt\n",
      "\n",
      "targets    : \n",
      " - pyproject.toml\n",
      "\n",
      "params     : \n",
      " - Param(name='backend', default='flit', long=None, short=None, type=None, help=None, choices=(('flit', 'flit'), ('poetry', 'poetry'), ('setuptools', 'setuptools')))\n"
     ]
    }
   ],
   "source": [
    "%doit info pyproject"
   ]
  },
  {
   "cell_type": "markdown",
   "metadata": {},
   "source": [
    "the `pyproject` task depends on the `requirements.txt` that contains the project dependencies; this information is joined with heuristics that infer project metadata to configure the setup of `flit, poetry and setuptools` projects."
   ]
  },
  {
   "cell_type": "markdown",
   "metadata": {},
   "source": [
    "when we run the project the first time, more than one task is run because of the file dependencies defined for each task."
   ]
  },
  {
   "cell_type": "code",
   "execution_count": 5,
   "metadata": {},
   "outputs": [
    {
     "name": "stdout",
     "output_type": "stream",
     "text": [
      "MyReporter --> requirements_txt\n",
      "MyReporter --> pyproject\n"
     ]
    }
   ],
   "source": [
    "%doit pyproject"
   ]
  },
  {
   "cell_type": "markdown",
   "metadata": {},
   "source": [
    "the -s flag can run a single task"
   ]
  },
  {
   "cell_type": "code",
   "execution_count": 6,
   "metadata": {},
   "outputs": [
    {
     "name": "stdout",
     "output_type": "stream",
     "text": [
      "-- pyproject\n"
     ]
    }
   ],
   "source": [
    "%doit -s pyproject"
   ]
  },
  {
   "cell_type": "markdown",
   "metadata": {},
   "source": [
    "running the command again we notice that the `--` indicating that the task is skipped because no dependencies are updated."
   ]
  },
  {
   "cell_type": "code",
   "execution_count": 7,
   "metadata": {},
   "outputs": [
    {
     "name": "stdout",
     "output_type": "stream",
     "text": [
      "MyReporter --> requirements_txt\n",
      "-- pyproject\n"
     ]
    }
   ],
   "source": [
    "%doit pyproject"
   ]
  },
  {
   "cell_type": "code",
   "execution_count": 8,
   "metadata": {},
   "outputs": [
    {
     "name": "stdout",
     "output_type": "stream",
     "text": [
      "MyReporter --> requirements_txt\n",
      "-- pyproject\n",
      "MyReporter --> build\n",
      "flit_core\n",
      "TaskError - taskid:build\n",
      "PythonAction Error\n",
      "Traceback (most recent call last):\n",
      "  File \"/home/tonyfast/miniconda3/lib/python3.7/site-packages/doit/action.py\", line 437, in execute\n",
      "    returned_value = self.py_callable(*self.args, **kwargs)\n",
      "  File \"/home/tonyfast/Documents/dgaf/src/dgaf/install.py\", line 73, in build\n",
      "    assert not doit.tools.CmdAction(\"flit build\").execute()\n",
      "AssertionError\n",
      "\n"
     ]
    }
   ],
   "source": [
    "%doit build"
   ]
  },
  {
   "cell_type": "code",
   "execution_count": 1,
   "metadata": {},
   "outputs": [
    {
     "name": "stdout",
     "output_type": "stream",
     "text": [
      "\u001b[?1l\u001b>?47h\u001b[1;24r\u001b[m\u001b[4l\u001b[24;1H\u001b[2J\u001b[?47l\u001b8Version number normalised: '2021.01.11' -> '2021.1.11' (see PEP 440)  \u001b[33mW-flit_core.versionno\u001b[m\n",
      "Untracked or deleted files in the source directory. Commit, undo or ignore these files in your VCS.\n"
     ]
    }
   ],
   "source": [
    "!flit build"
   ]
  },
  {
   "cell_type": "code",
   "execution_count": 9,
   "metadata": {},
   "outputs": [
    {
     "name": "stdout",
     "output_type": "stream",
     "text": [
      "\n",
      "build\n",
      "\n",
      "build the python project.\n",
      "\n",
      "status     : run\n",
      " * The following targets do not exist:\n",
      "    - dist/dgaf-2021.1.11-py3-none-any.whl\n",
      "    - dist/dgaf-2021.1.11.tar.gz\n",
      " * The following file dependencies have changed:\n",
      "    - pyproject.toml\n",
      "\n",
      "file_dep   : \n",
      " - pyproject.toml\n",
      "\n",
      "targets    : \n",
      " - dist/dgaf-2021.1.11-py3-none-any.whl\n",
      " - dist/dgaf-2021.1.11.tar.gz\n",
      "\n",
      "params     : \n",
      " - Param(name='develop', default=True, long=None, short=None, type=<class 'bool'>, help='use development tools to build the project.', choices=())\n",
      " - Param(name='pip', default=False, long=None, short=None, type=<class 'bool'>, help='build with generic standard python packaging tools.', choices=())\n"
     ]
    }
   ],
   "source": [
    "%doit info build"
   ]
  },
  {
   "cell_type": "markdown",
   "metadata": {},
   "source": [
    "    [tool.dgaf]\n",
    "    id = \"<url>\"\n",
    "    infer = False\n",
    "    build = \"flit\"\n",
    "    install = \"conda\"\n",
    "    develop = True\n",
    "    docs = \"jupyter-book\"\n",
    "    lint = \"flakehell/pre-commit\"\n",
    "    name = \"tonyfast\"\n",
    "    email = \"tony.fast@gmail.com\"\n",
    "    venv = True"
   ]
  },
  {
   "cell_type": "markdown",
   "metadata": {},
   "source": [
    "## test functions"
   ]
  },
  {
   "cell_type": "markdown",
   "metadata": {},
   "source": [
    "`inference` tests the interactive `dgaf` api for its ability to generate the proper configurations for the `project`."
   ]
  },
  {
   "cell_type": "code",
   "execution_count": 1,
   "metadata": {},
   "outputs": [],
   "source": [
    "    def inference(pytester, project):\n",
    "        assert project.is_flit()\n",
    "        assert project.get_name() == \"my_idea\"\n",
    "        assert project.get_description() == \"my projects docstring\"\n",
    "        assert project.get_version() == \"0.0.1\"\n",
    "        assert project.get_requires() == [\"pandas\"]"
   ]
  },
  {
   "cell_type": "markdown",
   "metadata": {},
   "source": [
    "`configuration` tests the ability for the `project` to configure itself. the primary intent of `dgaf` is distribution literate programs as literature and software. below we test the abilities to:\n",
    "\n",
    "* generate pyproject.toml file for building the project.\n",
    "* generate table of contents and documentation configuration.\n",
    "* configure the linters and formatters\n",
    "\n",
    "a lot of information can be encoded in a the `pyproject.toml` file. `dgaf` configures `flakehell, pytest and flit` in these tests."
   ]
  },
  {
   "cell_type": "code",
   "execution_count": 9,
   "metadata": {},
   "outputs": [],
   "source": [
    "    def configuration(pytester, project):\n",
    "        project.add(\"python\")\n",
    "        assert (project/ \"pyproject.toml\").exists()\n",
    "        \n",
    "        project.add(\"docs\")\n",
    "        assert (project/ \"docs/_toc.yml\").exists() and (project/ \"docs/_config.yml\").exists()\n",
    "        \n",
    "        project.add(\"lint\")\n",
    "        assert (project / '.pre-commit-config.yaml').exists()        "
   ]
  },
  {
   "cell_type": "markdown",
   "metadata": {},
   "source": [
    "`verify` checks the ability of different tools to use the generated configurations.\n",
    "\n",
    "the conventions we choose have either implicit/explicit schema and uses consumers of those schema to verify the configuration has the appropriate forms. we do not explicitly verify schema with `dgaf`."
   ]
  },
  {
   "cell_type": "code",
   "execution_count": 10,
   "metadata": {},
   "outputs": [],
   "source": [
    "    def verify(pytester, project):\n",
    "        import dgaf\n",
    "        pyproject = dgaf.File(project/ \"pyproject.toml\").load()\n",
    "        print(pyproject)\n",
    "        tool = pyproject.get(\"tool\", {})\n",
    "        assert all(x in tool for x in \"flit pytest\".split())\n",
    "        assert not pytester.run(*\"flit build --format sdist\".split()).ret"
   ]
  },
  {
   "cell_type": "markdown",
   "metadata": {},
   "source": [
    "## the test objects"
   ]
  },
  {
   "cell_type": "markdown",
   "metadata": {},
   "source": [
    "`build` creates a test directory from nested dictionaries."
   ]
  },
  {
   "cell_type": "code",
   "execution_count": 11,
   "metadata": {},
   "outputs": [],
   "source": [
    "    import pathlib, pytest\n",
    "    def build(pytester, object, where=None):\n",
    "        for key, value in object.items():\n",
    "            if isinstance(value, str):\n",
    "                file = (where or pathlib.Path()) / key\n",
    "                if where:\n",
    "                    where.mkdir(exist_ok=True, parents=True)\n",
    "                if file.suffix == \".ipynb\":\n",
    "                    import nbformat\n",
    "                    value = nbformat.v4.writes(nbformat.v4.new_notebook(cells=[nbformat.v4.new_code_cell(contents)]))\n",
    "                pytester.makefile(file.suffix, **{\n",
    "                    str(file.with_suffix(\"\")): value\n",
    "                })\n",
    "            elif isinstance(value, dict):\n",
    "                build(pytester, value, where=(where or pathlib.Path())/key)"
   ]
  },
  {
   "cell_type": "markdown",
   "metadata": {},
   "source": [
    "for this test document we'll consider a simple project with the contents below. in the `contents`, we need to explicitly provide a docstring and version to cooperate with `flit`s model."
   ]
  },
  {
   "cell_type": "code",
   "execution_count": 12,
   "metadata": {},
   "outputs": [],
   "source": [
    "    contents = \"\"\"'''my projects docstring'''\n",
    "    __version__ = \"0.0.1\"\n",
    "    \n",
    "    import pandas\n",
    "    \"\"\""
   ]
  },
  {
   "cell_type": "markdown",
   "metadata": {},
   "source": [
    "it allows different layouts, like `python_layouts` to be used as test input."
   ]
  },
  {
   "cell_type": "code",
   "execution_count": 13,
   "metadata": {},
   "outputs": [],
   "source": [
    "    python_layouts = [{\n",
    "        \"my_idea.py\": contents\n",
    "    }, dict(\n",
    "        my_idea={\n",
    "            \"__init__.py\": contents\n",
    "        }\n",
    "    ), dict(\n",
    "        src=dict(\n",
    "            my_idea={\n",
    "                \"__init__.py\": contents\n",
    "            }\n",
    "        )\n",
    "    ), {\n",
    "        \"my_idea.ipynb\": contents\n",
    "    }]"
   ]
  },
  {
   "cell_type": "code",
   "execution_count": 14,
   "metadata": {},
   "outputs": [],
   "source": [
    "    @pytest.mark.parametrize(\"layout\", python_layouts)\n",
    "    def test_python(pytester, layout):\n",
    "        import dgaf\n",
    "        build(pytester, layout)\n",
    "        project = dgaf.Project(pytester.path)\n",
    "        configuration(pytester, project)\n",
    "        project = dgaf.Project(pytester.path)\n",
    "        assert project.is_flit()\n",
    "        inference(pytester, project)\n",
    "        verify(pytester, project)"
   ]
  },
  {
   "cell_type": "markdown",
   "metadata": {},
   "source": [
    "## test the `src.dgaf` directly."
   ]
  },
  {
   "cell_type": "code",
   "execution_count": 1,
   "metadata": {},
   "outputs": [],
   "source": [
    "    import dgaf"
   ]
  },
  {
   "cell_type": "code",
   "execution_count": 3,
   "metadata": {},
   "outputs": [
    {
     "data": {
      "text/plain": [
       "'dgaf'"
      ]
     },
     "execution_count": 3,
     "metadata": {},
     "output_type": "execute_result"
    }
   ],
   "source": [
    "    "
   ]
  },
  {
   "cell_type": "code",
   "execution_count": 15,
   "metadata": {},
   "outputs": [],
   "source": [
    "    def test_dgaf_project():\n",
    "        from src import dgaf        \n",
    "        self = project = dgaf.Project()\n",
    "        assert project.get_name() == \"dgaf\" == dgaf.Project(\"src\").get_name()\n",
    "        assert project.is_flit()\n",
    "        assert project.get_description()\n",
    "        requires = [\"nox\", \"typer\"]\n",
    "        print(project.get_requires())\n",
    "        \n",
    "        assert project.get_requires() == [\"nox\", \"typer\"]\n",
    "        assert project.get_url()\n",
    "        assert \"@\" in project.get_email()\n",
    "        assert 'docs/_build/' in project.get_exclude()"
   ]
  }
 ],
 "metadata": {
  "jupytext": {
   "formats": "ipynb,py:percent"
  },
  "kernelspec": {
   "display_name": "Python 3",
   "language": "python",
   "name": "python3"
  },
  "language_info": {
   "codemirror_mode": {
    "name": "ipython",
    "version": 3
   },
   "file_extension": ".py",
   "mimetype": "text/x-python",
   "name": "python",
   "nbconvert_exporter": "python",
   "pygments_lexer": "ipython3",
   "version": "3.7.7"
  }
 },
 "nbformat": 4,
 "nbformat_minor": 4
}
