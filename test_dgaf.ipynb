{
 "cells": [
  {
   "cell_type": "markdown",
   "metadata": {},
   "source": [
    "# testing `dgaf` on itself\n",
    "\n",
    "`dgaf` is the first project to use `dgaf`. we'll test and discuss the things `dgaf` can infer."
   ]
  },
  {
   "cell_type": "code",
   "execution_count": 1,
   "metadata": {},
   "outputs": [],
   "source": [
    "    import dgaf"
   ]
  },
  {
   "cell_type": "code",
   "execution_count": 2,
   "metadata": {},
   "outputs": [],
   "source": [
    "    def test_dgaf_project():\n",
    "        import dgaf\n",
    "        self = project = dgaf.Project()\n",
    "        assert project.get_name() == \"dgaf\"\n",
    "        requires = [\"nox\", \"typer\"]\n",
    "        print(project.get_requires())\n",
    "        assert project.get_requires() == [\"nox\", \"typer\"]\n",
    "        assert project.get_url()\n",
    "        assert \"@\" in project.get_email()"
   ]
  }
 ],
 "metadata": {
  "kernelspec": {
   "display_name": "Python 3",
   "language": "python",
   "name": "python3"
  },
  "language_info": {
   "codemirror_mode": {
    "name": "ipython",
    "version": 3
   },
   "file_extension": ".py",
   "mimetype": "text/x-python",
   "name": "python",
   "nbconvert_exporter": "python",
   "pygments_lexer": "ipython3",
   "version": "3.7.7"
  }
 },
 "nbformat": 4,
 "nbformat_minor": 4
}
