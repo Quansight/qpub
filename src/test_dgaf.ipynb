{
 "cells": [
  {
   "cell_type": "markdown",
   "metadata": {},
   "source": [
    "# `dgaf` tests\n"
   ]
  },
  {
   "cell_type": "markdown",
   "metadata": {},
   "source": [
    "one way to use dgaf is it with the `doit` line magic; load the `dgaf` ipython extension with"
   ]
  },
  {
   "cell_type": "code",
   "execution_count": 1,
   "metadata": {},
   "outputs": [],
   "source": [
    "    import pathlib, pytest, os, sys\n",
    "    def build(pytester, object, where=None):\n",
    "        print(object)\n",
    "        for key, value in object.items():\n",
    "            if isinstance(value, str):\n",
    "                file = (where or pathlib.Path()) / key\n",
    "                if where:\n",
    "                    where.mkdir(exist_ok=True, parents=True)\n",
    "                if file.suffix == \".ipynb\":\n",
    "                    import nbformat\n",
    "                    value = nbformat.v4.writes(nbformat.v4.new_notebook(cells=[\n",
    "                        nbformat.v4.new_code_cell(contents)]))\n",
    "                pytester.makefile(file.suffix, **{\n",
    "                    str(file.with_suffix(\"\")): value\n",
    "                })\n",
    "            elif isinstance(value, dict):\n",
    "                build(pytester, value, where=(where or pathlib.Path())/key)"
   ]
  },
  {
   "cell_type": "markdown",
   "metadata": {},
   "source": [
    "for this test document we'll consider a simple project with the contents below. in the `contents`, we need to explicitly provide a docstring and version to cooperate with `flit`s model."
   ]
  },
  {
   "cell_type": "code",
   "execution_count": 2,
   "metadata": {},
   "outputs": [],
   "source": [
    "    contents = \"\"\"'''my projects docstring'''\n",
    "    __version__ = \"0.0.1\"\n",
    "    \n",
    "    import pandas\n",
    "    \"\"\""
   ]
  },
  {
   "cell_type": "markdown",
   "metadata": {},
   "source": [
    "it allows different layouts, like `python_layouts` to be used as test input."
   ]
  },
  {
   "cell_type": "code",
   "execution_count": 3,
   "metadata": {},
   "outputs": [],
   "source": [
    "    python_layouts = [{\n",
    "        \"my_idea.py\": contents\n",
    "    }, dict(\n",
    "        my_idea={\n",
    "            \"__init__.py\": contents\n",
    "        }\n",
    "    ), dict(\n",
    "        src=dict(\n",
    "            my_idea={\n",
    "                \"__init__.py\": contents\n",
    "            }\n",
    "        )\n",
    "    ), {\n",
    "        \"my_idea.ipynb\": contents\n",
    "    }]"
   ]
  },
  {
   "cell_type": "code",
   "execution_count": 4,
   "metadata": {},
   "outputs": [],
   "source": [
    "    def run(pytester, cmd):\n",
    "        result = pytester.run(*cmd.split())\n",
    "        assert not result.ret, \"\\n\".join((result.outlines+result.errlines))\n",
    "        return result"
   ]
  },
  {
   "cell_type": "code",
   "execution_count": 5,
   "metadata": {},
   "outputs": [],
   "source": [
    "    def verify_pyproject():\n",
    "        \"\"\"verify metadata for pyproject\"\"\"\n",
    "        import dgaf\n",
    "        \n",
    "        data = dgaf.PYPROJECT_TOML.load()\n",
    "        \n",
    "        # dgaf can infer configurations for different tools.\n",
    "        assert data[\"tool\"][\"poetry\"]\n",
    "        assert data[\"tool\"][\"flit\"]\n",
    "        assert data[\"tool\"][\"pytest\"]\n",
    "        \n",
    "        assert data[\"tool\"][\"flit\"][\"metadata\"][\"module\"] == \"my_idea\"\n",
    "        "
   ]
  },
  {
   "cell_type": "code",
   "execution_count": 6,
   "metadata": {},
   "outputs": [],
   "source": [
    "    def verify_setuptools():\n",
    "        \"\"\"verify metadata for pyproject\"\"\"\n",
    "        import dgaf \n",
    "        data = dgaf.SETUP_CFG.load()\n",
    "        assert data[\"metadata\"][\"name\"] == \"my_idea\"\n",
    "        "
   ]
  },
  {
   "cell_type": "code",
   "execution_count": 7,
   "metadata": {},
   "outputs": [],
   "source": [
    "    @pytest.mark.parametrize(\"layout\", python_layouts)\n",
    "    def test_python(pytester, layout):\n",
    "        import dgaf\n",
    "        build(pytester, layout)\n",
    "        \n",
    "        assert dgaf.get_name()==\"my_idea\"\n",
    "        \n",
    "        # at this point we just have content and no configuration\n",
    "        assert not (pytester.path / dgaf.PYPROJECT_TOML).exists()\n",
    "        \n",
    "        # infer the flit configuration by default if the module complies with the doc version conventions.\n",
    "        run(pytester, \"dgaf pyproject.toml\")\n",
    "        # no a pyproject configuration exists that contains flit metadata\n",
    "        assert (pytester.path / dgaf.PYPROJECT_TOML).exists()\n",
    "\n",
    "        # forget the task explicitly, can't forget the file, to update with poetry\n",
    "        # generally we wouldn't have to forget tasks, but we do for testing\n",
    "        run(pytester, \"dgaf forget pyproject\")\n",
    "        \n",
    "        # update the poetry metadata\n",
    "        run(pytester, \"dgaf pyproject -b poetry\")\n",
    "            \n",
    "        verify_pyproject()\n",
    "        \n",
    "        \n",
    "        assert not (pytester.path / dgaf.SETUP_CFG).exists()\n",
    "        \n",
    "        # configure the setuptools configuration.\n",
    "        run(pytester, \"dgaf forget pyproject\")\n",
    "        run(pytester, \"dgaf pyproject -b setuptools\")\n",
    "        assert (pytester.path / dgaf.SETUP_CFG).exists()\n",
    "        \n",
    "#         verify_setuptools()\n",
    "        # need to test overriding build backdns"
   ]
  },
  {
   "cell_type": "code",
   "execution_count": null,
   "metadata": {},
   "outputs": [],
   "source": []
  }
 ],
 "metadata": {
  "jupytext": {
   "formats": "ipynb,py:percent"
  },
  "kernelspec": {
   "display_name": "Python 3",
   "language": "python",
   "name": "python3"
  },
  "language_info": {
   "codemirror_mode": {
    "name": "ipython",
    "version": 3
   },
   "file_extension": ".py",
   "mimetype": "text/x-python",
   "name": "python",
   "nbconvert_exporter": "python",
   "pygments_lexer": "ipython3",
   "version": "3.7.7"
  }
 },
 "nbformat": 4,
 "nbformat_minor": 4
}
